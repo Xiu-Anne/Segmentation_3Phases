{
 "cells": [
  {
   "cell_type": "code",
   "execution_count": 1,
   "metadata": {},
   "outputs": [],
   "source": [
    "### Packages .........................................................\n",
    "import numpy as np\n",
    "import matplotlib.pyplot as plt\n",
    "%matplotlib widget\n",
    "from scipy import ndimage as ndi\n",
    "from scipy.spatial import ConvexHull\n",
    "from skimage import feature,io, data, morphology, measure, filters, restoration\n",
    "from skimage.segmentation import watershed\n",
    "from skimage.feature import peak_local_max\n",
    "from skimage.measure import label, regionprops\n",
    "from skimage.morphology import binary_opening, binary_closing, binary_dilation, binary_erosion\n",
    "from skimage import img_as_float, img_as_uint, img_as_ubyte\n",
    "from skimage.filters import median, gaussian\n",
    "from skimage.morphology import disk, ball\n",
    "from skimage import exposure\n",
    "import time\n",
    "import pathlib\n",
    "import pandas as pd"
   ]
  },
  {
   "cell_type": "code",
   "execution_count": 2,
   "metadata": {},
   "outputs": [],
   "source": [
    "### Lecture de l'image .........................................................\n",
    "# Emplacement des fichiers\n",
    "dir_data = pathlib.Path('Test3_1751_1950')\n",
    "path = dir_data"
   ]
  },
  {
   "cell_type": "code",
   "execution_count": null,
   "metadata": {},
   "outputs": [
    {
     "name": "stdout",
     "output_type": "stream",
     "text": [
      "Reading image ..........\n",
      "Image shape: 500, 500\n"
     ]
    }
   ],
   "source": [
    "# Read image sequence\n",
    "print(\"Reading image ..........\")\n",
    "\n",
    "i_0=0 #1rst image to read\n",
    "i_1=199 #last image to read\n",
    "\n",
    "#Shape of an image\n",
    "img_2 = io.imread(str(path / '%s%05d.tif') %(\"Images_L_500x500x200_\",i_0))\n",
    "a1, b1= img_2.shape\n",
    "print('Image shape: %d, %d' %(a1,b1))\n",
    "\n",
    "#Initialisation\n",
    "Images=np.zeros((i_1-i_0+1,a1,b1))\n",
    "Med_3=np.zeros((i_1-i_0+1,a1,b1))\n",
    "\n",
    "#Read images\n",
    "for i in range (i_0, i_1+1):    \n",
    "    img= io.imread(str(path / '%s%05d.tif') %(\"Images_L_500x500x200_\", i)) \n",
    "    Images[i-i_0,:,:]= img\n",
    "    med = median(img, disk(3)) #median filter (2D)\n",
    "    Med_3[i-i_0,:,:]= med\n",
    "print(path,\"read\")\n",
    "\n",
    "# Gaussian filter (3D)\n",
    "Gau_3 = gaussian(Images,0.8,preserve_range=True)\n",
    "\n",
    "# Saving images\n",
    "np.save('Test3_1751_1950\\Images.npy',Images)\n",
    "np.save('Test3_1751_1950\\Images_Median.npy',Med_3)\n",
    "np.save('Test3_1751_1950\\Images_Gaussian.npy',Gau_3)"
   ]
  },
  {
   "cell_type": "code",
   "execution_count": 3,
   "metadata": {},
   "outputs": [],
   "source": [
    "# Relaod images\n",
    "Images=np.load('Test3_1751_1950\\Images.npy')\n",
    "Med_3 = np.load('Test3_1751_1950\\Images_Median.npy')"
   ]
  },
  {
   "cell_type": "code",
   "execution_count": 4,
   "metadata": {},
   "outputs": [
    {
     "data": {
      "application/vnd.jupyter.widget-view+json": {
       "model_id": "cef4c8f8b3bf41b09110067e3567ed44",
       "version_major": 2,
       "version_minor": 0
      },
      "text/plain": [
       "Canvas(toolbar=Toolbar(toolitems=[('Home', 'Reset original view', 'home', 'home'), ('Back', 'Back to previous …"
      ]
     },
     "metadata": {},
     "output_type": "display_data"
    },
    {
     "data": {
      "text/plain": [
       "[<matplotlib.lines.Line2D at 0xbd43948>]"
      ]
     },
     "execution_count": 4,
     "metadata": {},
     "output_type": "execute_result"
    }
   ],
   "source": [
    "#Example of Original & filter image\n",
    "i_x = 100\n",
    "#Show images & their histograms\n",
    "fig,a2=  plt.subplots(2,2, figsize=(10, 10))\n",
    "\n",
    "a2[0][0].imshow(Images[i_x,:,:],cmap=\"gray\", vmin=4000, vmax=45000)\n",
    "# Trace histogram\n",
    "counts, bins = exposure.histogram(Images)\n",
    "a2[0][1].plot(bins, counts, '-')\n",
    "\n",
    "a2[1][0].imshow(Med_3[i_x,:,:],cmap=\"gray\", vmin=4000, vmax=45000)\n",
    "# Trace histogram\n",
    "counts, bins = exposure.histogram(Med_3)\n",
    "a2[1][1].plot(bins, counts, '-')"
   ]
  },
  {
   "cell_type": "code",
   "execution_count": 6,
   "metadata": {},
   "outputs": [
    {
     "data": {
      "application/vnd.jupyter.widget-view+json": {
       "model_id": "3ef0edc80e064d879d4a475436565243",
       "version_major": 2,
       "version_minor": 0
      },
      "text/plain": [
       "Canvas(toolbar=Toolbar(toolitems=[('Home', 'Reset original view', 'home', 'home'), ('Back', 'Back to previous …"
      ]
     },
     "metadata": {},
     "output_type": "display_data"
    }
   ],
   "source": [
    "# Pores + pure Polymer = Matrix\n",
    "PP=(Images<=19*10**3).astype(int)#pores + their interfaces + pure polymer\n",
    "\n",
    "# Pure pores\n",
    "Pores=(Med_3<=11.7*10**3).astype(int) #pure pores before morphological operations #Histogram of pure phases is gaussian!\n",
    "Pores_fill=(ndi.binary_fill_holes(Pores)).astype(int)\n",
    "Pores_fill_open=(binary_opening(Pores_fill,ball(2))).astype(int)\n",
    "Pores_fill_close=binary_closing(Pores_fill_open,ball(2)).astype(int)\n",
    "Pores_fill_close=(ndi.binary_fill_holes(Pores_fill_close)).astype(int)\n",
    "\n",
    "#Check pure pores modified by morphological operations\n",
    "fig,(ax1, ax2,ax3)=  plt.subplots(1,3, figsize=(10, 5))\n",
    "ax1.imshow(Pores_fill[100,:,:], cmap=\"gray\")\n",
    "ax2.imshow(Pores_fill_open[100,:,:], cmap=\"gray\")\n",
    "ax3.imshow(Pores_fill_close[100,:,:], cmap=\"gray\")\n",
    "\n",
    "Pure_Pores=np.logical_and(Pores_fill_close,PP).astype(int)"
   ]
  },
  {
   "cell_type": "code",
   "execution_count": 7,
   "metadata": {},
   "outputs": [
    {
     "data": {
      "application/vnd.jupyter.widget-view+json": {
       "model_id": "d909b0509a3b40238331f7723593338e",
       "version_major": 2,
       "version_minor": 0
      },
      "text/plain": [
       "Canvas(toolbar=Toolbar(toolitems=[('Home', 'Reset original view', 'home', 'home'), ('Back', 'Back to previous …"
      ]
     },
     "metadata": {},
     "output_type": "display_data"
    },
    {
     "data": {
      "text/plain": [
       "<matplotlib.image.AxesImage at 0x3cc16b48>"
      ]
     },
     "execution_count": 7,
     "metadata": {},
     "output_type": "execute_result"
    }
   ],
   "source": [
    "#Show original image & pure pores\n",
    "fig,(ax1, ax2)=  plt.subplots(1,2, figsize=(10, 5))\n",
    "ax1.imshow(Images[100,:,:], cmap=\"gray\")\n",
    "ax2.imshow(Pure_Pores[100,:,:], cmap=\"gray\")"
   ]
  },
  {
   "cell_type": "code",
   "execution_count": 8,
   "metadata": {},
   "outputs": [],
   "source": [
    "# Pore interfaces\n",
    "Pores_Interface=binary_dilation(Pure_Pores,ball(4)).astype(int)-Pure_Pores # interfaces are in shpere of 4 voxels\n",
    "\n",
    "PP_Interface=Pores_fill - np.logical_and(Pores_fill,Pores_fill_open).astype(int)\n",
    "PP_Interfaces=PP_Interface - np.logical_and(PP_Interface,Pure_Pores).astype(int)\n",
    "Pore_Matrix_Inter=binary_dilation(PP_Interfaces,ball(1)).astype(int) ## interfaces dilated 1 voxel\n",
    "Pore_Matrix_Interf=Pore_Matrix_Inter-np.logical_and(Pore_Matrix_Inter,Pores_Interface).astype(int)-np.logical_and(Pore_Matrix_Inter,Pure_Pores).astype(int)\n",
    "\n",
    "# All pore interfaces\n",
    "Pores_Interfaces=Pores_Interface+Pore_Matrix_Interf\n",
    "Pores_Interfaces=Pores_Interfaces-np.logical_and(Pores_Interfaces,Pure_Pores).astype(int)\n",
    "\n",
    "# Pore interfaces in PP & the rest\n",
    "PPP_Interfaces=np.logical_and(Pores_Interfaces,PP).astype(int)\n",
    "Pores_BPP_Interface=Pores_Interfaces-PPP_Interfaces"
   ]
  },
  {
   "cell_type": "code",
   "execution_count": 9,
   "metadata": {},
   "outputs": [
    {
     "data": {
      "application/vnd.jupyter.widget-view+json": {
       "model_id": "3cf5cce92eaf4b17a565f89a7eb2fe6a",
       "version_major": 2,
       "version_minor": 0
      },
      "text/plain": [
       "Canvas(toolbar=Toolbar(toolitems=[('Home', 'Reset original view', 'home', 'home'), ('Back', 'Back to previous …"
      ]
     },
     "metadata": {},
     "output_type": "display_data"
    },
    {
     "data": {
      "text/plain": [
       "<matplotlib.image.AxesImage at 0x3ce4bb88>"
      ]
     },
     "execution_count": 9,
     "metadata": {},
     "output_type": "execute_result"
    }
   ],
   "source": [
    "#Powders + All particles\n",
    "Matrix=PP-Pure_Pores-PPP_Interfaces\n",
    "plt.figure()\n",
    "plt.imshow(Matrix[100,:,:], cmap=\"gray\")"
   ]
  },
  {
   "cell_type": "code",
   "execution_count": 10,
   "metadata": {},
   "outputs": [],
   "source": [
    "# Pure Polymes-Matrix\n",
    "Pure_Matrix=binary_closing(binary_opening(Matrix, ball(2)), ball(2)).astype(int)\n",
    "Pure_Matrix=Pure_Matrix-np.logical_and(Pure_Matrix,Pure_Pores).astype(int)-np.logical_and(Pure_Matrix,Pores_Interfaces).astype(int)"
   ]
  },
  {
   "cell_type": "code",
   "execution_count": 11,
   "metadata": {},
   "outputs": [
    {
     "data": {
      "application/vnd.jupyter.widget-view+json": {
       "model_id": "a81e434a99234b6a9e4bc34e14412eea",
       "version_major": 2,
       "version_minor": 0
      },
      "text/plain": [
       "Canvas(toolbar=Toolbar(toolitems=[('Home', 'Reset original view', 'home', 'home'), ('Back', 'Back to previous …"
      ]
     },
     "metadata": {},
     "output_type": "display_data"
    },
    {
     "data": {
      "application/vnd.jupyter.widget-view+json": {
       "model_id": "2958e651b6174486b2ef59090f969698",
       "version_major": 2,
       "version_minor": 0
      },
      "text/plain": [
       "Canvas(toolbar=Toolbar(toolitems=[('Home', 'Reset original view', 'home', 'home'), ('Back', 'Back to previous …"
      ]
     },
     "metadata": {},
     "output_type": "display_data"
    },
    {
     "name": "stderr",
     "output_type": "stream",
     "text": [
      "C:\\Users\\thi-xiu.le\\AppData\\Local\\Continuum\\miniconda3\\lib\\site-packages\\skimage\\util\\dtype.py:454: UserWarning: Downcasting int32 to uint16 without scaling because max value 1 fits in uint16\n",
      "  return convert(image, np.uint16, force_copy)\n",
      "C:\\Users\\thi-xiu.le\\AppData\\Local\\Continuum\\miniconda3\\lib\\site-packages\\skimage\\util\\dtype.py:454: UserWarning: Downcasting int32 to uint16 without scaling because max value 1 fits in uint16\n",
      "  return convert(image, np.uint16, force_copy)\n"
     ]
    },
    {
     "data": {
      "text/plain": [
       "[<matplotlib.lines.Line2D at 0x3cedb7c8>]"
      ]
     },
     "execution_count": 11,
     "metadata": {},
     "output_type": "execute_result"
    }
   ],
   "source": [
    "#Show original image & pure polymer\n",
    "fig,(ax1, ax2)=  plt.subplots(1,2, figsize=(10, 5))\n",
    "ax1.imshow(Images[100,:,:], cmap=\"gray\")\n",
    "ax2.imshow(Pure_Matrix[100,:,:], cmap=\"gray\")\n",
    "\n",
    "#Histogram: Pure pores/powders\n",
    "fig,(ax1, ax2)=  plt.subplots(1,2, figsize=(10, 5))\n",
    "counts, bins = exposure.histogram(Images*img_as_uint(Pure_Pores))\n",
    "ax1.plot(bins, counts, '-')\n",
    "counts, bins = exposure.histogram(Images*img_as_uint(Pure_Matrix))\n",
    "ax2.plot(bins, counts, '-')"
   ]
  },
  {
   "cell_type": "code",
   "execution_count": 12,
   "metadata": {},
   "outputs": [
    {
     "name": "stdout",
     "output_type": "stream",
     "text": [
      "(256,)\n",
      "(256,)\n"
     ]
    }
   ],
   "source": [
    "print(bins.shape)\n",
    "print(counts.shape)"
   ]
  },
  {
   "cell_type": "code",
   "execution_count": 14,
   "metadata": {},
   "outputs": [
    {
     "name": "stdout",
     "output_type": "stream",
     "text": [
      "A_ini = 544110.00000, a_ini = 15477.31465, b_ini =  500.00000\n",
      "A = 3598514538.13688, a = 15180.63966, b =  2617.49093\n"
     ]
    },
    {
     "data": {
      "application/vnd.jupyter.widget-view+json": {
       "model_id": "8e9aad3da9a949afb4002d5778162130",
       "version_major": 2,
       "version_minor": 0
      },
      "text/plain": [
       "Canvas(toolbar=Toolbar(toolitems=[('Home', 'Reset original view', 'home', 'home'), ('Back', 'Back to previous …"
      ]
     },
     "metadata": {},
     "output_type": "display_data"
    }
   ],
   "source": [
    "# fit a gaussian function to histogram of pure phases\n",
    "from numpy import arange\n",
    "import math\n",
    "from scipy.optimize import curve_fit\n",
    " \n",
    "# define the true objective function\n",
    "def objective(x, A, m, sig):\n",
    "\treturn A/(np.sqrt(2*math.pi)*sig) * np.exp(-(x-m)**2 / (2*sig**2)) \n",
    "# load the dataset\n",
    "# choose the input and output variables\n",
    "x, y = bins[1:], counts[1:]\n",
    "# curve fit\n",
    "A_0 = np.max(y)\n",
    "m_0 = np.max(x * y/A_0)\n",
    "sig_0 = 500#sum(y * (x - m)**2)\n",
    "print('A_ini = %.5f, a_ini = %.5f, b_ini =  %.5f' % (A_0, m_0, sig_0))\n",
    "popt, _ = curve_fit(objective, x, y, p0 = [A_0, m_0, sig_0])\n",
    "# summarize the parameter values\n",
    "A, m, sig = popt\n",
    "print('A = %.5f, a = %.5f, b =  %.5f' % (A, m, sig))\n",
    "# define a sequence of inputs between the smallest and largest known inputs\n",
    "x_line = arange(min(x), max(x), 50)\n",
    "# calculate the output for the range\n",
    "y_line = objective(x_line, *popt)\n",
    "# create a line plot for the mapping function\n",
    "plt.figure()\n",
    "# plot input vs output\n",
    "plt.scatter(x, y)\n",
    "plt.plot(x_line, y_line, '--', color='red')\n",
    "plt.show()"
   ]
  },
  {
   "cell_type": "code",
   "execution_count": 15,
   "metadata": {},
   "outputs": [],
   "source": [
    "#Pore-Polymer/Particle Interfaces\n",
    "Pore_Matrix_Interfaces=np.logical_and(binary_dilation(Pure_Matrix,ball(5)),binary_dilation(Pure_Pores,ball(5))).astype(int)\n",
    "Pore_Matrix_Interfaces=Pore_Matrix_Interfaces - np.logical_and(Pore_Matrix_Interfaces,Pure_Matrix).astype(int) - np.logical_and(Pore_Matrix_Interfaces,Pure_Pores).astype(int)\n",
    "Pore_Matrix_Interfaces=Pore_Matrix_Interf + Pore_Matrix_Interfaces - np.logical_and(Pore_Matrix_Interf,Pore_Matrix_Interfaces).astype(int) \n",
    "Pore_Matrix_Interfaces_Final=np.logical_and(Pores_Interface,Pore_Matrix_Interfaces).astype(int)\n",
    "Pore_Particle_Interfaces=Pores_Interface - Pore_Matrix_Interfaces_Final"
   ]
  },
  {
   "cell_type": "code",
   "execution_count": 16,
   "metadata": {},
   "outputs": [
    {
     "data": {
      "application/vnd.jupyter.widget-view+json": {
       "model_id": "726965245c3d418999f137044aa00f0e",
       "version_major": 2,
       "version_minor": 0
      },
      "text/plain": [
       "Canvas(toolbar=Toolbar(toolitems=[('Home', 'Reset original view', 'home', 'home'), ('Back', 'Back to previous …"
      ]
     },
     "metadata": {},
     "output_type": "display_data"
    },
    {
     "data": {
      "text/plain": [
       "<matplotlib.image.AxesImage at 0x3e0fc608>"
      ]
     },
     "execution_count": 16,
     "metadata": {},
     "output_type": "execute_result"
    }
   ],
   "source": [
    "fig,(ax1, ax2)=  plt.subplots(1,2, figsize=(10, 5))\n",
    "ax1.imshow(Pore_Matrix_Interfaces_Final[100,:,:], cmap=\"gray\")\n",
    "ax2.imshow(Pore_Particle_Interfaces[100,:,:], cmap=\"gray\")"
   ]
  },
  {
   "cell_type": "code",
   "execution_count": 17,
   "metadata": {},
   "outputs": [],
   "source": [
    "# Particles + Interfaces_Particles\n",
    "Particles_Pre=(Med_3>27.5*10**3).astype(int)\n",
    "Particles_Pre=Particles_Pre-np.logical_and(Particles_Pre,Pore_Particle_Interfaces).astype(int)\n",
    "Particle=binary_opening(Particles_Pre,ball(1)).astype(int)\n",
    "Particle=binary_closing(Particle,ball(1)).astype(int)\n",
    "Particle=(ndi.binary_fill_holes(Particle)).astype(int)\n",
    "Particles=Particle-np.logical_and(Particle,Pure_Pores).astype(int)-np.logical_and(Particle,Pure_Matrix).astype(int)-np.logical_and(Particle,Pore_Matrix_Interfaces_Final).astype(int)-np.logical_and(Particle,Pore_Particle_Interfaces).astype(int)\n",
    "\n",
    "Interfaces_Particles=(Images>=0).astype(int)-(Pure_Pores+Pure_Matrix+Pore_Matrix_Interfaces_Final+Pore_Particle_Interfaces+Particles) #Matrix-Particle interfaces"
   ]
  },
  {
   "cell_type": "code",
   "execution_count": 18,
   "metadata": {},
   "outputs": [
    {
     "data": {
      "application/vnd.jupyter.widget-view+json": {
       "model_id": "3963225a1c3244ca8e231425800ac600",
       "version_major": 2,
       "version_minor": 0
      },
      "text/plain": [
       "Canvas(toolbar=Toolbar(toolitems=[('Home', 'Reset original view', 'home', 'home'), ('Back', 'Back to previous …"
      ]
     },
     "metadata": {},
     "output_type": "display_data"
    },
    {
     "name": "stderr",
     "output_type": "stream",
     "text": [
      "C:\\Users\\thi-xiu.le\\AppData\\Local\\Continuum\\miniconda3\\lib\\site-packages\\skimage\\util\\dtype.py:454: UserWarning: Downcasting int32 to uint16 without scaling because max value 1 fits in uint16\n",
      "  return convert(image, np.uint16, force_copy)\n"
     ]
    },
    {
     "data": {
      "application/vnd.jupyter.widget-view+json": {
       "model_id": "6df88e9233524c9ea95fd791512915e0",
       "version_major": 2,
       "version_minor": 0
      },
      "text/plain": [
       "Canvas(toolbar=Toolbar(toolitems=[('Home', 'Reset original view', 'home', 'home'), ('Back', 'Back to previous …"
      ]
     },
     "metadata": {},
     "output_type": "display_data"
    },
    {
     "data": {
      "application/vnd.jupyter.widget-view+json": {
       "model_id": "ef855cc49ee141ac80c6576261a6e27d",
       "version_major": 2,
       "version_minor": 0
      },
      "text/plain": [
       "Canvas(toolbar=Toolbar(toolitems=[('Home', 'Reset original view', 'home', 'home'), ('Back', 'Back to previous …"
      ]
     },
     "metadata": {},
     "output_type": "display_data"
    },
    {
     "data": {
      "text/plain": [
       "<matplotlib.image.AxesImage at 0x3f1dd8c8>"
      ]
     },
     "execution_count": 18,
     "metadata": {},
     "output_type": "execute_result"
    }
   ],
   "source": [
    "#Show histogram of particles\n",
    "plt.figure()\n",
    "counts, bins = exposure.histogram(Images*img_as_uint(Particles))\n",
    "plt.plot(bins, counts, '-')\n",
    "\n",
    "#Show original image & pure particles\n",
    "fig,(ax1, ax2)=  plt.subplots(1,2, figsize=(10, 5))\n",
    "ax1.imshow(Images[100,:,:], cmap=\"gray\")\n",
    "ax2.imshow(Particles[100,:,:], cmap=\"gray\")\n",
    "\n",
    "#Show original image & polyemer_particle interfaces\n",
    "fig,(ax1, ax2)=  plt.subplots(1,2, figsize=(10, 5))\n",
    "ax1.imshow(Images[100,:,:], cmap=\"gray\")\n",
    "ax2.imshow(Interfaces_Particles[100,:,:], cmap=\"gray\")"
   ]
  },
  {
   "cell_type": "code",
   "execution_count": 19,
   "metadata": {},
   "outputs": [
    {
     "data": {
      "application/vnd.jupyter.widget-view+json": {
       "model_id": "5c022c554ee34e2dae2af0b9b5df744a",
       "version_major": 2,
       "version_minor": 0
      },
      "text/plain": [
       "Canvas(toolbar=Toolbar(toolitems=[('Home', 'Reset original view', 'home', 'home'), ('Back', 'Back to previous …"
      ]
     },
     "metadata": {},
     "output_type": "display_data"
    },
    {
     "data": {
      "text/plain": [
       "<matplotlib.image.AxesImage at 0x3f72c9c8>"
      ]
     },
     "execution_count": 19,
     "metadata": {},
     "output_type": "execute_result"
    }
   ],
   "source": [
    "#Show images & pure phases\n",
    "fig,a2=  plt.subplots(2,2, figsize=(10, 10))\n",
    "\n",
    "a2[0][0].imshow(Images[i_x,:,:],cmap=\"gray\")\n",
    "a2[0][1].imshow(Particles[i_x,:,:],cmap=\"gray\")\n",
    "a2[1][0].imshow(Pure_Pores[i_x,:,:],cmap=\"gray\")\n",
    "a2[1][1].imshow(Pure_Matrix[i_x,:,:],cmap=\"gray\")"
   ]
  },
  {
   "cell_type": "code",
   "execution_count": 20,
   "metadata": {},
   "outputs": [
    {
     "name": "stdout",
     "output_type": "stream",
     "text": [
      "1\n",
      "1\n"
     ]
    }
   ],
   "source": [
    "Check=Pure_Pores+Pure_Matrix+Particles+Pore_Matrix_Interfaces_Final+Pore_Particle_Interfaces+Interfaces_Particles\n",
    "print(np.min(Check))\n",
    "print(np.max(Check))"
   ]
  },
  {
   "cell_type": "code",
   "execution_count": 21,
   "metadata": {},
   "outputs": [
    {
     "name": "stdout",
     "output_type": "stream",
     "text": [
      "50000000\n"
     ]
    }
   ],
   "source": [
    "V_Pure_Pores=np.count_nonzero(Pure_Pores)\n",
    "V_Pure_Matrix=np.count_nonzero(Pure_Matrix)\n",
    "V_Particles=np.count_nonzero(Particles)\n",
    "\n",
    "V_Pore_Matrix=np.count_nonzero(Pore_Matrix_Interfaces_Final)\n",
    "V_Pore_Particle=np.count_nonzero(Pore_Particle_Interfaces)\n",
    "V_Matrix_Particle=np.count_nonzero(Interfaces_Particles)\n",
    "\n",
    "print(V_Pure_Pores+V_Pure_Matrix+V_Particles+V_Pore_Matrix+V_Pore_Particle+V_Matrix_Particle)"
   ]
  },
  {
   "cell_type": "code",
   "execution_count": 22,
   "metadata": {},
   "outputs": [
    {
     "name": "stderr",
     "output_type": "stream",
     "text": [
      "C:\\Users\\thi-xiu.le\\AppData\\Local\\Continuum\\miniconda3\\lib\\site-packages\\skimage\\util\\dtype.py:454: UserWarning: Downcasting int32 to uint16 without scaling because max value 1 fits in uint16\n",
      "  return convert(image, np.uint16, force_copy)\n"
     ]
    },
    {
     "name": "stdout",
     "output_type": "stream",
     "text": [
      "9072.77154722226 15158.003055622752 35486.73238681446 15828.15366267883 15890.097110465329 20298.899206793194\n",
      "2773.7437362149203 2624.76525452136 6045.899569932203\n"
     ]
    }
   ],
   "source": [
    "M_Pores=np.sum(Images*img_as_uint(Pure_Pores))/V_Pure_Pores\n",
    "M_Matrix=np.sum(Images*img_as_uint(Pure_Matrix))/V_Pure_Matrix\n",
    "M_Particles=np.sum(Images*img_as_uint(Particles))/V_Particles\n",
    "\n",
    "Std_Pore=np.sqrt(np.sum((Images*img_as_uint(Pure_Pores))**2)/V_Pure_Pores-M_Pores**2)\n",
    "Std_Matrix=np.sqrt(np.sum((Images*img_as_uint(Pure_Matrix))**2)/V_Pure_Matrix-M_Matrix**2)\n",
    "Std_Particle=np.sqrt(np.sum((Images*img_as_uint(Particles))**2)/V_Particles-M_Particles**2)\n",
    "\n",
    "M_Pore_Matrix=np.sum(Images*img_as_uint(Pore_Matrix_Interfaces_Final))/V_Pore_Matrix\n",
    "M_Pore_Particle=np.sum(Images*img_as_uint(Pore_Particle_Interfaces))/V_Pore_Particle\n",
    "M_Matrix_Particle=np.sum(Images*img_as_uint(Interfaces_Particles))/V_Matrix_Particle\n",
    "\n",
    "print(M_Pores,M_Matrix,M_Particles,M_Pore_Matrix,M_Pore_Particle,M_Matrix_Particle)\n",
    "print(Std_Pore,Std_Matrix,Std_Particle)"
   ]
  },
  {
   "cell_type": "code",
   "execution_count": 23,
   "metadata": {},
   "outputs": [
    {
     "name": "stdout",
     "output_type": "stream",
     "text": [
      "50000000.0\n"
     ]
    }
   ],
   "source": [
    "V_Pores=V_Pure_Pores + (M_Matrix-M_Pore_Matrix)/(M_Matrix-M_Pores)*V_Pore_Matrix + (M_Particles-M_Pore_Particle)/(M_Particles-M_Pores)*V_Pore_Particle \n",
    "V_Matrix=V_Pure_Matrix + (M_Pore_Matrix-M_Pores)/(M_Matrix-M_Pores)*V_Pore_Matrix + (M_Particles-M_Matrix_Particle)/(M_Particles-M_Matrix)*V_Matrix_Particle \n",
    "V_Particles=V_Particles + (M_Pore_Particle-M_Pores)/(M_Particles-M_Pores)*V_Pore_Particle + (M_Matrix_Particle-M_Matrix)/(M_Particles-M_Matrix)*V_Matrix_Particle \n",
    "\n",
    "V_all=(V_Pores+V_Matrix+V_Particles)\n",
    "print(V_all)"
   ]
  },
  {
   "cell_type": "code",
   "execution_count": 24,
   "metadata": {},
   "outputs": [
    {
     "name": "stdout",
     "output_type": "stream",
     "text": [
      "2.506995601569607 14.081436239037014\n"
     ]
    }
   ],
   "source": [
    "Porosity=V_Pores/V_all*100\n",
    "Fiber=(V_Particles)/V_all*100\n",
    "print(Porosity,Fiber)"
   ]
  },
  {
   "cell_type": "code",
   "execution_count": 25,
   "metadata": {},
   "outputs": [
    {
     "data": {
      "application/vnd.jupyter.widget-view+json": {
       "model_id": "f7a15149dd3145cfb00b9de31fabb2e4",
       "version_major": 2,
       "version_minor": 0
      },
      "text/plain": [
       "Canvas(toolbar=Toolbar(toolitems=[('Home', 'Reset original view', 'home', 'home'), ('Back', 'Back to previous …"
      ]
     },
     "metadata": {},
     "output_type": "display_data"
    },
    {
     "data": {
      "text/plain": [
       "<matplotlib.image.AxesImage at 0x3f9a1cc8>"
      ]
     },
     "execution_count": 25,
     "metadata": {},
     "output_type": "execute_result"
    }
   ],
   "source": [
    "t=100\n",
    "Color_Image = 0*Pure_Pores[t,:,:] + 50*Pore_Matrix_Interfaces_Final[t,:,:] + 100*Pore_Particle_Interfaces[t,:,:]  + 150*Pure_Matrix[t,:,:] + 200*Interfaces_Particles[t,:,:]+ 255*Particles[t,:,:] \n",
    "\n",
    "fig,(ax1, ax2)=  plt.subplots(1,2, figsize=(10, 5))\n",
    "ax1.imshow(Images[t,:,:], cmap=\"gray\")\n",
    "ax2.imshow(Color_Image, cmap=\"gray\")"
   ]
  },
  {
   "cell_type": "code",
   "execution_count": 23,
   "metadata": {},
   "outputs": [],
   "source": [
    "import scipy.io\n",
    "\n",
    "# Emplacement des fichiers\n",
    "dir_data = pathlib.Path('Test3_1751_1950')\n",
    "path = dir_data \n",
    "\n",
    "for t in range (0,200):\n",
    "    Color_Image =  0*Pure_Pores[t,:,:] + 50*Pore_Matrix_Interfaces_Final[t,:,:] + 100*Pore_Particle_Interfaces[t,:,:]  + 150*Pure_Matrix[t,:,:] + 200*Interfaces_Particles[t,:,:]+ 255*Particles[t,:,:] \n",
    "    io.imsave(str(path/'Color_Images'/'%05d.tif')%(t),img_as_ubyte(Color_Image)) "
   ]
  },
  {
   "cell_type": "code",
   "execution_count": null,
   "metadata": {},
   "outputs": [],
   "source": []
  },
  {
   "cell_type": "code",
   "execution_count": null,
   "metadata": {},
   "outputs": [],
   "source": []
  },
  {
   "cell_type": "code",
   "execution_count": null,
   "metadata": {},
   "outputs": [],
   "source": []
  },
  {
   "cell_type": "code",
   "execution_count": null,
   "metadata": {},
   "outputs": [],
   "source": []
  }
 ],
 "metadata": {
  "kernelspec": {
   "display_name": "Python 3",
   "language": "python",
   "name": "python3"
  },
  "language_info": {
   "codemirror_mode": {
    "name": "ipython",
    "version": 3
   },
   "file_extension": ".py",
   "mimetype": "text/x-python",
   "name": "python",
   "nbconvert_exporter": "python",
   "pygments_lexer": "ipython3",
   "version": "3.7.4"
  }
 },
 "nbformat": 4,
 "nbformat_minor": 4
}
